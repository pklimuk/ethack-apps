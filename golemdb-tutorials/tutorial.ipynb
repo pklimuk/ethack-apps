{
 "cells": [
  {
   "cell_type": "code",
   "execution_count": 16,
   "id": "9243e0ea",
   "metadata": {},
   "outputs": [
    {
     "name": "stdout",
     "output_type": "stream",
     "text": [
      "Requirement already satisfied: golem-node in /Users/antonmasiukevich/ethack-apps/.venv/lib/python3.13/site-packages (0.17.3)\n"
     ]
    }
   ],
   "source": [
    "!pip install golem-node"
   ]
  },
  {
   "cell_type": "code",
   "execution_count": 17,
   "id": "c4e70a27",
   "metadata": {},
   "outputs": [
    {
     "name": "stdout",
     "output_type": "stream",
     "text": [
      "Requirement already satisfied: golem-base-sdk in /Users/antonmasiukevich/ethack-apps/.venv/lib/python3.13/site-packages (0.1.0)\n",
      "Requirement already satisfied: python-dotenv in /Users/antonmasiukevich/ethack-apps/.venv/lib/python3.13/site-packages (1.1.1)\n",
      "Requirement already satisfied: anyio>=4.10.0 in /Users/antonmasiukevich/ethack-apps/.venv/lib/python3.13/site-packages (from golem-base-sdk) (4.10.0)\n",
      "Requirement already satisfied: pyxdg>=0.28 in /Users/antonmasiukevich/ethack-apps/.venv/lib/python3.13/site-packages (from golem-base-sdk) (0.28)\n",
      "Requirement already satisfied: rlp>=1.2.0 in /Users/antonmasiukevich/ethack-apps/.venv/lib/python3.13/site-packages (from golem-base-sdk) (4.1.0)\n",
      "Requirement already satisfied: web3>=4.7.2 in /Users/antonmasiukevich/ethack-apps/.venv/lib/python3.13/site-packages (from golem-base-sdk) (7.13.0)\n",
      "Requirement already satisfied: idna>=2.8 in /Users/antonmasiukevich/ethack-apps/.venv/lib/python3.13/site-packages (from anyio>=4.10.0->golem-base-sdk) (3.10)\n",
      "Requirement already satisfied: sniffio>=1.1 in /Users/antonmasiukevich/ethack-apps/.venv/lib/python3.13/site-packages (from anyio>=4.10.0->golem-base-sdk) (1.3.1)\n",
      "Requirement already satisfied: eth-utils>=2 in /Users/antonmasiukevich/ethack-apps/.venv/lib/python3.13/site-packages (from rlp>=1.2.0->golem-base-sdk) (5.3.1)\n",
      "Requirement already satisfied: eth-hash>=0.3.1 in /Users/antonmasiukevich/ethack-apps/.venv/lib/python3.13/site-packages (from eth-utils>=2->rlp>=1.2.0->golem-base-sdk) (0.7.1)\n",
      "Requirement already satisfied: eth-typing>=5.0.0 in /Users/antonmasiukevich/ethack-apps/.venv/lib/python3.13/site-packages (from eth-utils>=2->rlp>=1.2.0->golem-base-sdk) (5.2.1)\n",
      "Requirement already satisfied: cytoolz>=0.10.1 in /Users/antonmasiukevich/ethack-apps/.venv/lib/python3.13/site-packages (from eth-utils>=2->rlp>=1.2.0->golem-base-sdk) (1.0.1)\n",
      "Requirement already satisfied: pydantic<3,>=2.0.0 in /Users/antonmasiukevich/ethack-apps/.venv/lib/python3.13/site-packages (from eth-utils>=2->rlp>=1.2.0->golem-base-sdk) (2.11.7)\n",
      "Requirement already satisfied: annotated-types>=0.6.0 in /Users/antonmasiukevich/ethack-apps/.venv/lib/python3.13/site-packages (from pydantic<3,>=2.0.0->eth-utils>=2->rlp>=1.2.0->golem-base-sdk) (0.7.0)\n",
      "Requirement already satisfied: pydantic-core==2.33.2 in /Users/antonmasiukevich/ethack-apps/.venv/lib/python3.13/site-packages (from pydantic<3,>=2.0.0->eth-utils>=2->rlp>=1.2.0->golem-base-sdk) (2.33.2)\n",
      "Requirement already satisfied: typing-extensions>=4.12.2 in /Users/antonmasiukevich/ethack-apps/.venv/lib/python3.13/site-packages (from pydantic<3,>=2.0.0->eth-utils>=2->rlp>=1.2.0->golem-base-sdk) (4.15.0)\n",
      "Requirement already satisfied: typing-inspection>=0.4.0 in /Users/antonmasiukevich/ethack-apps/.venv/lib/python3.13/site-packages (from pydantic<3,>=2.0.0->eth-utils>=2->rlp>=1.2.0->golem-base-sdk) (0.4.1)\n",
      "Requirement already satisfied: toolz>=0.8.0 in /Users/antonmasiukevich/ethack-apps/.venv/lib/python3.13/site-packages (from cytoolz>=0.10.1->eth-utils>=2->rlp>=1.2.0->golem-base-sdk) (1.0.0)\n",
      "Requirement already satisfied: eth-abi>=5.0.1 in /Users/antonmasiukevich/ethack-apps/.venv/lib/python3.13/site-packages (from web3>=4.7.2->golem-base-sdk) (5.2.0)\n",
      "Requirement already satisfied: eth-account>=0.13.6 in /Users/antonmasiukevich/ethack-apps/.venv/lib/python3.13/site-packages (from web3>=4.7.2->golem-base-sdk) (0.13.7)\n",
      "Requirement already satisfied: hexbytes>=1.2.0 in /Users/antonmasiukevich/ethack-apps/.venv/lib/python3.13/site-packages (from web3>=4.7.2->golem-base-sdk) (1.3.1)\n",
      "Requirement already satisfied: aiohttp>=3.7.4.post0 in /Users/antonmasiukevich/ethack-apps/.venv/lib/python3.13/site-packages (from web3>=4.7.2->golem-base-sdk) (3.12.15)\n",
      "Requirement already satisfied: requests>=2.23.0 in /Users/antonmasiukevich/ethack-apps/.venv/lib/python3.13/site-packages (from web3>=4.7.2->golem-base-sdk) (2.32.5)\n",
      "Requirement already satisfied: types-requests>=2.0.0 in /Users/antonmasiukevich/ethack-apps/.venv/lib/python3.13/site-packages (from web3>=4.7.2->golem-base-sdk) (2.32.4.20250809)\n",
      "Requirement already satisfied: websockets<16.0.0,>=10.0.0 in /Users/antonmasiukevich/ethack-apps/.venv/lib/python3.13/site-packages (from web3>=4.7.2->golem-base-sdk) (15.0.1)\n",
      "Requirement already satisfied: pyunormalize>=15.0.0 in /Users/antonmasiukevich/ethack-apps/.venv/lib/python3.13/site-packages (from web3>=4.7.2->golem-base-sdk) (16.0.0)\n",
      "Requirement already satisfied: aiohappyeyeballs>=2.5.0 in /Users/antonmasiukevich/ethack-apps/.venv/lib/python3.13/site-packages (from aiohttp>=3.7.4.post0->web3>=4.7.2->golem-base-sdk) (2.6.1)\n",
      "Requirement already satisfied: aiosignal>=1.4.0 in /Users/antonmasiukevich/ethack-apps/.venv/lib/python3.13/site-packages (from aiohttp>=3.7.4.post0->web3>=4.7.2->golem-base-sdk) (1.4.0)\n",
      "Requirement already satisfied: attrs>=17.3.0 in /Users/antonmasiukevich/ethack-apps/.venv/lib/python3.13/site-packages (from aiohttp>=3.7.4.post0->web3>=4.7.2->golem-base-sdk) (25.3.0)\n",
      "Requirement already satisfied: frozenlist>=1.1.1 in /Users/antonmasiukevich/ethack-apps/.venv/lib/python3.13/site-packages (from aiohttp>=3.7.4.post0->web3>=4.7.2->golem-base-sdk) (1.7.0)\n",
      "Requirement already satisfied: multidict<7.0,>=4.5 in /Users/antonmasiukevich/ethack-apps/.venv/lib/python3.13/site-packages (from aiohttp>=3.7.4.post0->web3>=4.7.2->golem-base-sdk) (6.6.4)\n",
      "Requirement already satisfied: propcache>=0.2.0 in /Users/antonmasiukevich/ethack-apps/.venv/lib/python3.13/site-packages (from aiohttp>=3.7.4.post0->web3>=4.7.2->golem-base-sdk) (0.3.2)\n",
      "Requirement already satisfied: yarl<2.0,>=1.17.0 in /Users/antonmasiukevich/ethack-apps/.venv/lib/python3.13/site-packages (from aiohttp>=3.7.4.post0->web3>=4.7.2->golem-base-sdk) (1.20.1)\n",
      "Requirement already satisfied: parsimonious<0.11.0,>=0.10.0 in /Users/antonmasiukevich/ethack-apps/.venv/lib/python3.13/site-packages (from eth-abi>=5.0.1->web3>=4.7.2->golem-base-sdk) (0.10.0)\n",
      "Requirement already satisfied: regex>=2022.3.15 in /Users/antonmasiukevich/ethack-apps/.venv/lib/python3.13/site-packages (from parsimonious<0.11.0,>=0.10.0->eth-abi>=5.0.1->web3>=4.7.2->golem-base-sdk) (2025.9.1)\n",
      "Requirement already satisfied: bitarray>=2.4.0 in /Users/antonmasiukevich/ethack-apps/.venv/lib/python3.13/site-packages (from eth-account>=0.13.6->web3>=4.7.2->golem-base-sdk) (3.7.1)\n",
      "Requirement already satisfied: eth-keyfile<0.9.0,>=0.7.0 in /Users/antonmasiukevich/ethack-apps/.venv/lib/python3.13/site-packages (from eth-account>=0.13.6->web3>=4.7.2->golem-base-sdk) (0.8.1)\n",
      "Requirement already satisfied: eth-keys>=0.4.0 in /Users/antonmasiukevich/ethack-apps/.venv/lib/python3.13/site-packages (from eth-account>=0.13.6->web3>=4.7.2->golem-base-sdk) (0.7.0)\n",
      "Requirement already satisfied: eth-rlp>=2.1.0 in /Users/antonmasiukevich/ethack-apps/.venv/lib/python3.13/site-packages (from eth-account>=0.13.6->web3>=4.7.2->golem-base-sdk) (2.2.0)\n",
      "Requirement already satisfied: ckzg>=2.0.0 in /Users/antonmasiukevich/ethack-apps/.venv/lib/python3.13/site-packages (from eth-account>=0.13.6->web3>=4.7.2->golem-base-sdk) (2.1.2)\n",
      "Requirement already satisfied: pycryptodome<4,>=3.6.6 in /Users/antonmasiukevich/ethack-apps/.venv/lib/python3.13/site-packages (from eth-keyfile<0.9.0,>=0.7.0->eth-account>=0.13.6->web3>=4.7.2->golem-base-sdk) (3.23.0)\n",
      "Requirement already satisfied: charset_normalizer<4,>=2 in /Users/antonmasiukevich/ethack-apps/.venv/lib/python3.13/site-packages (from requests>=2.23.0->web3>=4.7.2->golem-base-sdk) (3.4.3)\n",
      "Requirement already satisfied: urllib3<3,>=1.21.1 in /Users/antonmasiukevich/ethack-apps/.venv/lib/python3.13/site-packages (from requests>=2.23.0->web3>=4.7.2->golem-base-sdk) (2.5.0)\n",
      "Requirement already satisfied: certifi>=2017.4.17 in /Users/antonmasiukevich/ethack-apps/.venv/lib/python3.13/site-packages (from requests>=2.23.0->web3>=4.7.2->golem-base-sdk) (2025.8.3)\n"
     ]
    }
   ],
   "source": [
    "!pip install golem-base-sdk python-dotenv"
   ]
  },
  {
   "cell_type": "code",
   "execution_count": 19,
   "id": "2a0ad1ce",
   "metadata": {},
   "outputs": [
    {
     "name": "stdout",
     "output_type": "stream",
     "text": [
      "3191e1d2b8e0bd58fd54ec1ce28c49ed20d04b0cc03e440515afc428e31c457c\n",
      "Connected with address: 0xa34013043dfD69D1703377F75167b61b5a38AAF0\n",
      "Ready to interact with Golem DB!\n"
     ]
    }
   ],
   "source": [
    "# Initialize the Golem DB client\n",
    "from golem_base_sdk import GolemBaseClient\n",
    "import json\n",
    "import asyncio\n",
    "\n",
    "\n",
    "\n",
    "from dotenv import load_dotenv\n",
    "load_dotenv(\".env\")\n",
    "import os\n",
    "\n",
    "private_key_hex = os.getenv(\"PRIVATESS_KEY\").replace(\"0x\", \"\")# Using mock key for playground\n",
    "print(private_key_hex)\n",
    "# Convert hex to bytes\n",
    "\n",
    "\n",
    "RPC_URL = os.getenv(\"RPC_URL\", \"https://ethwarsaw.holesky.golemdb.io/rpc\")\n",
    "WS_URL = os.getenv(\"WS_URL\", \"wss://ethwarsaw.holesky.golemdb.io/rpc/ws\")\n",
    "\n",
    "\n",
    "private_key = bytes.fromhex(private_key_hex)\n",
    "\n",
    "# Create client connection\n",
    "client = await GolemBaseClient.create_rw_client(\n",
    "    rpc_url=RPC_URL,\n",
    "    ws_url=WS_URL,\n",
    "    private_key=private_key\n",
    ")\n",
    "\n",
    "# Get owner address\n",
    "owner_address = client.get_account_address()\n",
    "print(f\"Connected with address: {owner_address}\")\n",
    "print(\"Ready to interact with Golem DB!\")"
   ]
  },
  {
   "cell_type": "markdown",
   "id": "5e353f9c",
   "metadata": {},
   "source": [
    "### Create entity"
   ]
  },
  {
   "cell_type": "code",
   "execution_count": 20,
   "id": "80578c88",
   "metadata": {},
   "outputs": [],
   "source": [
    "from golem_base_sdk import GolemBaseCreate, Annotation\n",
    "\n",
    "async def create_first_entity(client):\n",
    "    # Create entity\n",
    "    entity = GolemBaseCreate(\n",
    "        data=b\"Hello, Golem DB from Python!\",\n",
    "        btl=100,  # Expires after 100 blocks\n",
    "        string_annotations=[\n",
    "            Annotation(key=\"type\", value=\"greeting\"),\n",
    "            Annotation(key=\"language\", value=\"python\")\n",
    "        ],\n",
    "        numeric_annotations=[\n",
    "            Annotation(key=\"priority\", value=1),\n",
    "            Annotation(key=\"version\", value=3)\n",
    "        ]\n",
    "    )\n",
    "    \n",
    "    # Send to blockchain\n",
    "    receipts = await client.create_entities([entity])\n",
    "    receipt = receipts[0]\n",
    "    \n",
    "    print(f\"Entity created!\")\n",
    "    print(f\"Entity key: {receipt.entity_key}\")\n",
    "    print(f\"Expires at block: {receipt.expiration_block}\")\n",
    "    \n",
    "    return receipt.entity_key"
   ]
  },
  {
   "cell_type": "markdown",
   "id": "c93bb1a8",
   "metadata": {},
   "source": [
    "### Query Entities"
   ]
  },
  {
   "cell_type": "code",
   "execution_count": 21,
   "id": "4b85044a",
   "metadata": {},
   "outputs": [],
   "source": [
    "import json\n",
    "\n",
    "async def query_entities(client, entity_key):\n",
    "    print(f\"Entity metadata: {await client.get_entity_metadata(entity_key)}\")\n",
    "    print(f\"Entity storage: {await client.get_storage_value(entity_key)}\")\n",
    "\n",
    "    # 1. Simple equality query for strings (use double quotes)\n",
    "    greetings = await client.query_entities('type=\"greeting\"')\n",
    "    print(f\"Found {len(greetings)} greeting entities\")\n",
    "\n",
    "    # 2. Processing results\n",
    "    for result in greetings:\n",
    "        entity_key = result.entity_key\n",
    "        decoded = result.storage_value.decode(\"utf-8\")\n",
    "        try:\n",
    "            data = json.loads(decoded)\n",
    "            print(f\"Entity: {entity_key}, Decoded JSON data {data}\")\n",
    "        except (json.JSONDecodeError, ValueError):\n",
    "            print(f\"Entity: {entity_key}, Decoded data {decoded}\")\n",
    "\n",
    "    # 3. Numeric equality (no quotes for numbers)\n",
    "    print(f\"version_one: {await client.query_entities('version=1')}\")\n",
    "    print(f\"high_priority: {await client.query_entities('priority=5')}\")\n",
    "\n",
    "    # 4. Numeric comparison operators\n",
    "    print(f\"above_threshold: {await client.query_entities('priority>3')}\")\n",
    "    print(f\"old_versions: {await client.query_entities('version<10')}\")\n",
    "    print(f\"in_range: {await client.query_entities('score>=80')}\")\n",
    "\n",
    "    # 5. Combining conditions with AND (&&)\n",
    "    print(f\"specific: {await client.query_entities('type=\"message\" && version=2')}\")\n",
    "    print(f\"filtered: {await client.query_entities('status=\"active\" && priority>3')}\")\n",
    "\n",
    "    # 6. Using OR (||) for multiple options\n",
    "    print(f\"messages: {await client.query_entities('type=\"message\" || type=\"alert\"')}\")\n",
    "\n",
    "    # 7. Complex queries with parentheses\n",
    "    print(\n",
    "        f\"complex_query: {\n",
    "            await client.query_entities(\n",
    "                '(type=\"greeting\" && version>2) || status=\"urgent\"'\n",
    "            )\n",
    "        }\"\n",
    "    )\n",
    "\n",
    "    # 8. Query by owner with variable\n",
    "    owner = client.get_account_address()\n",
    "    print(f\"by_owner: {await client.query_entities(f'$owner=\"{owner}\"')}\")\n",
    "\n",
    "    # Note: String values need double quotes: type=\"message\"\n",
    "    # Numbers don't need quotes: priority=5\n",
    "    # Use && for AND operator, || for OR operator in complex queries"
   ]
  }
 ],
 "metadata": {
  "kernelspec": {
   "display_name": ".venv",
   "language": "python",
   "name": "python3"
  },
  "language_info": {
   "codemirror_mode": {
    "name": "ipython",
    "version": 3
   },
   "file_extension": ".py",
   "mimetype": "text/x-python",
   "name": "python",
   "nbconvert_exporter": "python",
   "pygments_lexer": "ipython3",
   "version": "3.13.5"
  }
 },
 "nbformat": 4,
 "nbformat_minor": 5
}
